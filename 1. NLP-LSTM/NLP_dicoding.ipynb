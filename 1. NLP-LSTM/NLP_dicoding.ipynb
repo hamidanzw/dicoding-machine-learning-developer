{
  "nbformat": 4,
  "nbformat_minor": 0,
  "metadata": {
    "accelerator": "GPU",
    "colab": {
      "name": "NLP-dicoding.ipynb",
      "provenance": [],
      "collapsed_sections": []
    },
    "kernelspec": {
      "display_name": "Python 3",
      "name": "python3"
    },
    "language_info": {
      "name": "python"
    }
  },
  "cells": [
    {
      "cell_type": "markdown",
      "metadata": {
        "id": "DM5nWws5ggUA"
      },
      "source": [
        "#Profile Submission\n",
        "\n",
        "> Nama : Hamidan Z Wijasena\n",
        "\n",
        "> Email : hamidanzaneddinewijasena@gmail.com\n"
      ]
    },
    {
      "cell_type": "markdown",
      "metadata": {
        "id": "pytfZ1nAiA2M"
      },
      "source": [
        "#Submission-NLP: Klasifikasi Teks pada Dataset BBC News menggunakan metode LSTM\n",
        "Requirements \n",
        "\n",
        "1. Dataset yang akan dipakai bebas, namun minimal memiliki 1000 sampel. \n",
        "2. Harus menggunakan LSTM dalam arsitektur model.\n",
        "3. Harus menggunakan model sequential.\n",
        "4. Harus menggunakan Embedding.\n",
        "5. Validation set sebesar 20% dari total dataset.\n",
        "6. Harus menggunakan fungsi tokenizer. \n",
        "7. Akurasi dari model 80%\n",
        "8. Mengimplementasikan callback.\n",
        "9. Membuat plot loss dan akurasi pada saat training dan validation.\n",
        "\n",
        "> Dataset : https://www.kaggle.com/hgultekin/bbcnewsarchive\n"
      ]
    },
    {
      "cell_type": "code",
      "metadata": {
        "colab": {
          "base_uri": "https://localhost:8080/"
        },
        "id": "t0onAjxZY0Hm",
        "outputId": "c1afa7ef-399e-44bf-c9f3-d62374fec5fe"
      },
      "source": [
        "#Import dataset dari gdrive\n",
        "\n",
        "from google.colab import drive\n",
        "drive.mount('/content/drive/')"
      ],
      "execution_count": 1,
      "outputs": [
        {
          "output_type": "stream",
          "text": [
            "Drive already mounted at /content/drive/; to attempt to forcibly remount, call drive.mount(\"/content/drive/\", force_remount=True).\n"
          ],
          "name": "stdout"
        }
      ]
    },
    {
      "cell_type": "code",
      "metadata": {
        "id": "SX5vmnFEgtGG"
      },
      "source": [
        "# Import Library yang akan digunakan\n",
        "\n",
        "import pandas as pd\n",
        "import nltk, os, re, string\n",
        "import tensorflow as tf\n",
        "import seaborn as sns\n",
        "import matplotlib.pyplot as plt\n",
        "from tensorflow.keras.layers import Input, LSTM, Dropout, Dense, Embedding\n",
        "from tensorflow.keras.models import Model\n",
        "from tensorflow.keras.callbacks import EarlyStopping\n",
        "from tensorflow.keras.preprocessing.text import Tokenizer\n",
        "from tensorflow.keras.preprocessing.sequence import pad_sequences\n",
        "from sklearn.model_selection import train_test_split\n",
        "from nltk.corpus import stopwords\n",
        "from nltk.stem import WordNetLemmatizer\n",
        "from nltk.corpus import wordnet as wn"
      ],
      "execution_count": 2,
      "outputs": []
    },
    {
      "cell_type": "code",
      "metadata": {
        "colab": {
          "base_uri": "https://localhost:8080/",
          "height": 381
        },
        "id": "OqQsz8D8d_8u",
        "outputId": "ed176fd6-309f-41d8-90f4-05b94de474ba"
      },
      "source": [
        "# Import Dataset BBCNews\n",
        "\n",
        "dataframe = pd.read_csv('/content/drive/MyDrive/Colab Notebooks/Latihan/NLP/bbc-news-data.csv', sep='\\t')\n",
        "dataframe.head(11)"
      ],
      "execution_count": 3,
      "outputs": [
        {
          "output_type": "execute_result",
          "data": {
            "text/html": [
              "<div>\n",
              "<style scoped>\n",
              "    .dataframe tbody tr th:only-of-type {\n",
              "        vertical-align: middle;\n",
              "    }\n",
              "\n",
              "    .dataframe tbody tr th {\n",
              "        vertical-align: top;\n",
              "    }\n",
              "\n",
              "    .dataframe thead th {\n",
              "        text-align: right;\n",
              "    }\n",
              "</style>\n",
              "<table border=\"1\" class=\"dataframe\">\n",
              "  <thead>\n",
              "    <tr style=\"text-align: right;\">\n",
              "      <th></th>\n",
              "      <th>category</th>\n",
              "      <th>filename</th>\n",
              "      <th>title</th>\n",
              "      <th>content</th>\n",
              "    </tr>\n",
              "  </thead>\n",
              "  <tbody>\n",
              "    <tr>\n",
              "      <th>0</th>\n",
              "      <td>business</td>\n",
              "      <td>001.txt</td>\n",
              "      <td>Ad sales boost Time Warner profit</td>\n",
              "      <td>Quarterly profits at US media giant TimeWarne...</td>\n",
              "    </tr>\n",
              "    <tr>\n",
              "      <th>1</th>\n",
              "      <td>business</td>\n",
              "      <td>002.txt</td>\n",
              "      <td>Dollar gains on Greenspan speech</td>\n",
              "      <td>The dollar has hit its highest level against ...</td>\n",
              "    </tr>\n",
              "    <tr>\n",
              "      <th>2</th>\n",
              "      <td>business</td>\n",
              "      <td>003.txt</td>\n",
              "      <td>Yukos unit buyer faces loan claim</td>\n",
              "      <td>The owners of embattled Russian oil giant Yuk...</td>\n",
              "    </tr>\n",
              "    <tr>\n",
              "      <th>3</th>\n",
              "      <td>business</td>\n",
              "      <td>004.txt</td>\n",
              "      <td>High fuel prices hit BA's profits</td>\n",
              "      <td>British Airways has blamed high fuel prices f...</td>\n",
              "    </tr>\n",
              "    <tr>\n",
              "      <th>4</th>\n",
              "      <td>business</td>\n",
              "      <td>005.txt</td>\n",
              "      <td>Pernod takeover talk lifts Domecq</td>\n",
              "      <td>Shares in UK drinks and food firm Allied Dome...</td>\n",
              "    </tr>\n",
              "    <tr>\n",
              "      <th>5</th>\n",
              "      <td>business</td>\n",
              "      <td>006.txt</td>\n",
              "      <td>Japan narrowly escapes recession</td>\n",
              "      <td>Japan's economy teetered on the brink of a te...</td>\n",
              "    </tr>\n",
              "    <tr>\n",
              "      <th>6</th>\n",
              "      <td>business</td>\n",
              "      <td>007.txt</td>\n",
              "      <td>Jobs growth still slow in the US</td>\n",
              "      <td>The US created fewer jobs than expected in Ja...</td>\n",
              "    </tr>\n",
              "    <tr>\n",
              "      <th>7</th>\n",
              "      <td>business</td>\n",
              "      <td>008.txt</td>\n",
              "      <td>India calls for fair trade rules</td>\n",
              "      <td>India, which attends the G7 meeting of seven ...</td>\n",
              "    </tr>\n",
              "    <tr>\n",
              "      <th>8</th>\n",
              "      <td>business</td>\n",
              "      <td>009.txt</td>\n",
              "      <td>Ethiopia's crop production up 24%</td>\n",
              "      <td>Ethiopia produced 14.27 million tonnes of cro...</td>\n",
              "    </tr>\n",
              "    <tr>\n",
              "      <th>9</th>\n",
              "      <td>business</td>\n",
              "      <td>010.txt</td>\n",
              "      <td>Court rejects $280bn tobacco case</td>\n",
              "      <td>A US government claim accusing the country's ...</td>\n",
              "    </tr>\n",
              "    <tr>\n",
              "      <th>10</th>\n",
              "      <td>business</td>\n",
              "      <td>011.txt</td>\n",
              "      <td>Ask Jeeves tips online ad revival</td>\n",
              "      <td>Ask Jeeves has become the third leading onlin...</td>\n",
              "    </tr>\n",
              "  </tbody>\n",
              "</table>\n",
              "</div>"
            ],
            "text/plain": [
              "    category  ...                                            content\n",
              "0   business  ...   Quarterly profits at US media giant TimeWarne...\n",
              "1   business  ...   The dollar has hit its highest level against ...\n",
              "2   business  ...   The owners of embattled Russian oil giant Yuk...\n",
              "3   business  ...   British Airways has blamed high fuel prices f...\n",
              "4   business  ...   Shares in UK drinks and food firm Allied Dome...\n",
              "5   business  ...   Japan's economy teetered on the brink of a te...\n",
              "6   business  ...   The US created fewer jobs than expected in Ja...\n",
              "7   business  ...   India, which attends the G7 meeting of seven ...\n",
              "8   business  ...   Ethiopia produced 14.27 million tonnes of cro...\n",
              "9   business  ...   A US government claim accusing the country's ...\n",
              "10  business  ...   Ask Jeeves has become the third leading onlin...\n",
              "\n",
              "[11 rows x 4 columns]"
            ]
          },
          "metadata": {
            "tags": []
          },
          "execution_count": 3
        }
      ]
    },
    {
      "cell_type": "code",
      "metadata": {
        "colab": {
          "base_uri": "https://localhost:8080/"
        },
        "id": "1xq5sViaqH1i",
        "outputId": "6b15982c-c76a-4894-cdda-6ea34035cca1"
      },
      "source": [
        "# Total data\n",
        "\n",
        "dataframe.shape"
      ],
      "execution_count": 4,
      "outputs": [
        {
          "output_type": "execute_result",
          "data": {
            "text/plain": [
              "(2225, 4)"
            ]
          },
          "metadata": {
            "tags": []
          },
          "execution_count": 4
        }
      ]
    },
    {
      "cell_type": "code",
      "metadata": {
        "colab": {
          "base_uri": "https://localhost:8080/"
        },
        "id": "75h-4iWPR942",
        "outputId": "36bdb2a9-1163-4005-a728-adf5a55b240b"
      },
      "source": [
        "dataframe.category.value_counts()"
      ],
      "execution_count": 5,
      "outputs": [
        {
          "output_type": "execute_result",
          "data": {
            "text/plain": [
              "sport            511\n",
              "business         510\n",
              "politics         417\n",
              "tech             401\n",
              "entertainment    386\n",
              "Name: category, dtype: int64"
            ]
          },
          "metadata": {
            "tags": []
          },
          "execution_count": 5
        }
      ]
    },
    {
      "cell_type": "code",
      "metadata": {
        "colab": {
          "base_uri": "https://localhost:8080/",
          "height": 456
        },
        "id": "Z7Vz54_xkZEX",
        "outputId": "2e8ec958-e70a-408d-8661-30df6dbce840"
      },
      "source": [
        "# PLot persebaran data\n",
        "\n",
        "plt.figure(figsize = (12, 6))\n",
        "sns.countplot(dataframe.category)"
      ],
      "execution_count": 6,
      "outputs": [
        {
          "output_type": "stream",
          "text": [
            "/usr/local/lib/python3.7/dist-packages/seaborn/_decorators.py:43: FutureWarning: Pass the following variable as a keyword arg: x. From version 0.12, the only valid positional argument will be `data`, and passing other arguments without an explicit keyword will result in an error or misinterpretation.\n",
            "  FutureWarning\n"
          ],
          "name": "stderr"
        },
        {
          "output_type": "execute_result",
          "data": {
            "text/plain": [
              "<matplotlib.axes._subplots.AxesSubplot at 0x7fd2f4fef0d0>"
            ]
          },
          "metadata": {
            "tags": []
          },
          "execution_count": 6
        },
        {
          "output_type": "display_data",
          "data": {
            "image/png": "[encoded data removed]",
            "text/plain": [
              "<Figure size 864x432 with 1 Axes>"
            ]
          },
          "metadata": {
            "tags": [],
            "needs_background": "light"
          }
        }
      ]
    },
    {
      "cell_type": "code",
      "metadata": {
        "colab": {
          "base_uri": "https://localhost:8080/",
          "height": 381
        },
        "id": "9hoaIQVUpPer",
        "outputId": "e2ea03f1-a8c5-4fd3-fdd3-9edf50d3caf5"
      },
      "source": [
        "# Hapus kolom yang tidak digunakan\n",
        "\n",
        "dataframe = dataframe.drop(columns = ['filename'])\n",
        "dataframe.head(11)"
      ],
      "execution_count": 7,
      "outputs": [
        {
          "output_type": "execute_result",
          "data": {
            "text/html": [
              "<div>\n",
              "<style scoped>\n",
              "    .dataframe tbody tr th:only-of-type {\n",
              "        vertical-align: middle;\n",
              "    }\n",
              "\n",
              "    .dataframe tbody tr th {\n",
              "        vertical-align: top;\n",
              "    }\n",
              "\n",
              "    .dataframe thead th {\n",
              "        text-align: right;\n",
              "    }\n",
              "</style>\n",
              "<table border=\"1\" class=\"dataframe\">\n",
              "  <thead>\n",
              "    <tr style=\"text-align: right;\">\n",
              "      <th></th>\n",
              "      <th>category</th>\n",
              "      <th>title</th>\n",
              "      <th>content</th>\n",
              "    </tr>\n",
              "  </thead>\n",
              "  <tbody>\n",
              "    <tr>\n",
              "      <th>0</th>\n",
              "      <td>business</td>\n",
              "      <td>Ad sales boost Time Warner profit</td>\n",
              "      <td>Quarterly profits at US media giant TimeWarne...</td>\n",
              "    </tr>\n",
              "    <tr>\n",
              "      <th>1</th>\n",
              "      <td>business</td>\n",
              "      <td>Dollar gains on Greenspan speech</td>\n",
              "      <td>The dollar has hit its highest level against ...</td>\n",
              "    </tr>\n",
              "    <tr>\n",
              "      <th>2</th>\n",
              "      <td>business</td>\n",
              "      <td>Yukos unit buyer faces loan claim</td>\n",
              "      <td>The owners of embattled Russian oil giant Yuk...</td>\n",
              "    </tr>\n",
              "    <tr>\n",
              "      <th>3</th>\n",
              "      <td>business</td>\n",
              "      <td>High fuel prices hit BA's profits</td>\n",
              "      <td>British Airways has blamed high fuel prices f...</td>\n",
              "    </tr>\n",
              "    <tr>\n",
              "      <th>4</th>\n",
              "      <td>business</td>\n",
              "      <td>Pernod takeover talk lifts Domecq</td>\n",
              "      <td>Shares in UK drinks and food firm Allied Dome...</td>\n",
              "    </tr>\n",
              "    <tr>\n",
              "      <th>5</th>\n",
              "      <td>business</td>\n",
              "      <td>Japan narrowly escapes recession</td>\n",
              "      <td>Japan's economy teetered on the brink of a te...</td>\n",
              "    </tr>\n",
              "    <tr>\n",
              "      <th>6</th>\n",
              "      <td>business</td>\n",
              "      <td>Jobs growth still slow in the US</td>\n",
              "      <td>The US created fewer jobs than expected in Ja...</td>\n",
              "    </tr>\n",
              "    <tr>\n",
              "      <th>7</th>\n",
              "      <td>business</td>\n",
              "      <td>India calls for fair trade rules</td>\n",
              "      <td>India, which attends the G7 meeting of seven ...</td>\n",
              "    </tr>\n",
              "    <tr>\n",
              "      <th>8</th>\n",
              "      <td>business</td>\n",
              "      <td>Ethiopia's crop production up 24%</td>\n",
              "      <td>Ethiopia produced 14.27 million tonnes of cro...</td>\n",
              "    </tr>\n",
              "    <tr>\n",
              "      <th>9</th>\n",
              "      <td>business</td>\n",
              "      <td>Court rejects $280bn tobacco case</td>\n",
              "      <td>A US government claim accusing the country's ...</td>\n",
              "    </tr>\n",
              "    <tr>\n",
              "      <th>10</th>\n",
              "      <td>business</td>\n",
              "      <td>Ask Jeeves tips online ad revival</td>\n",
              "      <td>Ask Jeeves has become the third leading onlin...</td>\n",
              "    </tr>\n",
              "  </tbody>\n",
              "</table>\n",
              "</div>"
            ],
            "text/plain": [
              "    category  ...                                            content\n",
              "0   business  ...   Quarterly profits at US media giant TimeWarne...\n",
              "1   business  ...   The dollar has hit its highest level against ...\n",
              "2   business  ...   The owners of embattled Russian oil giant Yuk...\n",
              "3   business  ...   British Airways has blamed high fuel prices f...\n",
              "4   business  ...   Shares in UK drinks and food firm Allied Dome...\n",
              "5   business  ...   Japan's economy teetered on the brink of a te...\n",
              "6   business  ...   The US created fewer jobs than expected in Ja...\n",
              "7   business  ...   India, which attends the G7 meeting of seven ...\n",
              "8   business  ...   Ethiopia produced 14.27 million tonnes of cro...\n",
              "9   business  ...   A US government claim accusing the country's ...\n",
              "10  business  ...   Ask Jeeves has become the third leading onlin...\n",
              "\n",
              "[11 rows x 3 columns]"
            ]
          },
          "metadata": {
            "tags": []
          },
          "execution_count": 7
        }
      ]
    },
    {
      "cell_type": "markdown",
      "metadata": {
        "id": "UuE88lvjpgiv"
      },
      "source": [
        "#Pre-Processing Dataset\n",
        "\n",
        "### https://www.kdnuggets.com/2019/04/text-preprocessing-nlp-machine-learning.html"
      ]
    },
    {
      "cell_type": "code",
      "metadata": {
        "id": "1u8V6mHCpdOU"
      },
      "source": [
        "# lowercasing\n",
        "\n",
        "dataframe.title = dataframe.title.apply(lambda x: x.lower())\n",
        "dataframe.content = dataframe.content.apply(lambda x: x.lower())"
      ],
      "execution_count": 8,
      "outputs": []
    },
    {
      "cell_type": "code",
      "metadata": {
        "id": "NzlefbVPqtZA"
      },
      "source": [
        "# Menghapus tanda baca\n",
        "\n",
        "def cleaner(data):\n",
        "    return(data.translate(str.maketrans('','', string.punctuation)))\n",
        "    dataframe.title = dataframe.title.apply(lambda x: cleaner(x))\n",
        "    dataframe.content = dataframe.content.apply(lambda x: lem(x))"
      ],
      "execution_count": 9,
      "outputs": []
    },
    {
      "cell_type": "code",
      "metadata": {
        "id": "HNWYu0udF5q9"
      },
      "source": [
        "# Menghapus angka\n",
        "\n",
        "def rem_numbers(data):\n",
        "    return re.sub('[0-9]+','',data)\n",
        "    dataframe['title'].apply(rem_numbers)\n",
        "    dataframe['content'].apply(rem_numbers)"
      ],
      "execution_count": 10,
      "outputs": []
    },
    {
      "cell_type": "code",
      "metadata": {
        "id": "7X5sib4ArbYG"
      },
      "source": [
        "# Lematization\n",
        "\n",
        "lemmatizer = WordNetLemmatizer()\n",
        "\n",
        "def lem(data):\n",
        "    pos_dict = {'N': wn.NOUN, 'V': wn.VERB, 'J': wn.ADJ, 'R': wn.ADV}\n",
        "    return(' '.join([lemmatizer.lemmatize(w,pos_dict.get(t, wn.NOUN)) for w,t in nltk.pos_tag(data.split())]))\n",
        "    dataframe.title = dataframe.title.apply(lambda x: lem(x))\n",
        "    dataframe.content = dataframe.content.apply(lambda x: lem(x))"
      ],
      "execution_count": 11,
      "outputs": []
    },
    {
      "cell_type": "code",
      "metadata": {
        "id": "k7nDtet9q9tc"
      },
      "source": [
        "# Menghapus stopword\n",
        "\n",
        "st_words = stopwords.words('english')\n",
        "def stopword(data):\n",
        "    return(' '.join([w for w in data.split() if w not in st_words ]))\n",
        "    dataframe.title = dataframe.title.apply(lambda x: stopword(x))\n",
        "    dataframe.content = dataframe.content.apply(lambda x: lem(x))"
      ],
      "execution_count": 12,
      "outputs": []
    },
    {
      "cell_type": "code",
      "metadata": {
        "colab": {
          "base_uri": "https://localhost:8080/",
          "height": 381
        },
        "id": "VheTlwrFroYy",
        "outputId": "95c7010f-7d33-43d0-fef5-89fe7fb1b142"
      },
      "source": [
        "dataframe.head(11)"
      ],
      "execution_count": 13,
      "outputs": [
        {
          "output_type": "execute_result",
          "data": {
            "text/html": [
              "<div>\n",
              "<style scoped>\n",
              "    .dataframe tbody tr th:only-of-type {\n",
              "        vertical-align: middle;\n",
              "    }\n",
              "\n",
              "    .dataframe tbody tr th {\n",
              "        vertical-align: top;\n",
              "    }\n",
              "\n",
              "    .dataframe thead th {\n",
              "        text-align: right;\n",
              "    }\n",
              "</style>\n",
              "<table border=\"1\" class=\"dataframe\">\n",
              "  <thead>\n",
              "    <tr style=\"text-align: right;\">\n",
              "      <th></th>\n",
              "      <th>category</th>\n",
              "      <th>title</th>\n",
              "      <th>content</th>\n",
              "    </tr>\n",
              "  </thead>\n",
              "  <tbody>\n",
              "    <tr>\n",
              "      <th>0</th>\n",
              "      <td>business</td>\n",
              "      <td>ad sales boost time warner profit</td>\n",
              "      <td>quarterly profits at us media giant timewarne...</td>\n",
              "    </tr>\n",
              "    <tr>\n",
              "      <th>1</th>\n",
              "      <td>business</td>\n",
              "      <td>dollar gains on greenspan speech</td>\n",
              "      <td>the dollar has hit its highest level against ...</td>\n",
              "    </tr>\n",
              "    <tr>\n",
              "      <th>2</th>\n",
              "      <td>business</td>\n",
              "      <td>yukos unit buyer faces loan claim</td>\n",
              "      <td>the owners of embattled russian oil giant yuk...</td>\n",
              "    </tr>\n",
              "    <tr>\n",
              "      <th>3</th>\n",
              "      <td>business</td>\n",
              "      <td>high fuel prices hit ba's profits</td>\n",
              "      <td>british airways has blamed high fuel prices f...</td>\n",
              "    </tr>\n",
              "    <tr>\n",
              "      <th>4</th>\n",
              "      <td>business</td>\n",
              "      <td>pernod takeover talk lifts domecq</td>\n",
              "      <td>shares in uk drinks and food firm allied dome...</td>\n",
              "    </tr>\n",
              "    <tr>\n",
              "      <th>5</th>\n",
              "      <td>business</td>\n",
              "      <td>japan narrowly escapes recession</td>\n",
              "      <td>japan's economy teetered on the brink of a te...</td>\n",
              "    </tr>\n",
              "    <tr>\n",
              "      <th>6</th>\n",
              "      <td>business</td>\n",
              "      <td>jobs growth still slow in the us</td>\n",
              "      <td>the us created fewer jobs than expected in ja...</td>\n",
              "    </tr>\n",
              "    <tr>\n",
              "      <th>7</th>\n",
              "      <td>business</td>\n",
              "      <td>india calls for fair trade rules</td>\n",
              "      <td>india, which attends the g7 meeting of seven ...</td>\n",
              "    </tr>\n",
              "    <tr>\n",
              "      <th>8</th>\n",
              "      <td>business</td>\n",
              "      <td>ethiopia's crop production up 24%</td>\n",
              "      <td>ethiopia produced 14.27 million tonnes of cro...</td>\n",
              "    </tr>\n",
              "    <tr>\n",
              "      <th>9</th>\n",
              "      <td>business</td>\n",
              "      <td>court rejects $280bn tobacco case</td>\n",
              "      <td>a us government claim accusing the country's ...</td>\n",
              "    </tr>\n",
              "    <tr>\n",
              "      <th>10</th>\n",
              "      <td>business</td>\n",
              "      <td>ask jeeves tips online ad revival</td>\n",
              "      <td>ask jeeves has become the third leading onlin...</td>\n",
              "    </tr>\n",
              "  </tbody>\n",
              "</table>\n",
              "</div>"
            ],
            "text/plain": [
              "    category  ...                                            content\n",
              "0   business  ...   quarterly profits at us media giant timewarne...\n",
              "1   business  ...   the dollar has hit its highest level against ...\n",
              "2   business  ...   the owners of embattled russian oil giant yuk...\n",
              "3   business  ...   british airways has blamed high fuel prices f...\n",
              "4   business  ...   shares in uk drinks and food firm allied dome...\n",
              "5   business  ...   japan's economy teetered on the brink of a te...\n",
              "6   business  ...   the us created fewer jobs than expected in ja...\n",
              "7   business  ...   india, which attends the g7 meeting of seven ...\n",
              "8   business  ...   ethiopia produced 14.27 million tonnes of cro...\n",
              "9   business  ...   a us government claim accusing the country's ...\n",
              "10  business  ...   ask jeeves has become the third leading onlin...\n",
              "\n",
              "[11 rows x 3 columns]"
            ]
          },
          "metadata": {
            "tags": []
          },
          "execution_count": 13
        }
      ]
    },
    {
      "cell_type": "code",
      "metadata": {
        "colab": {
          "base_uri": "https://localhost:8080/",
          "height": 381
        },
        "id": "gNSHQTXKsSrI",
        "outputId": "bdf0ef7f-61a6-45bd-9156-c9ae14787b24"
      },
      "source": [
        "# One-hot-encoding\n",
        "\n",
        "category = pd.get_dummies(dataframe.category)\n",
        "dataframe = pd.concat([dataframe, category], axis = 1)\n",
        "dataframe = dataframe.drop(columns = 'category')\n",
        "dataframe.head(11)"
      ],
      "execution_count": 14,
      "outputs": [
        {
          "output_type": "execute_result",
          "data": {
            "text/html": [
              "<div>\n",
              "<style scoped>\n",
              "    .dataframe tbody tr th:only-of-type {\n",
              "        vertical-align: middle;\n",
              "    }\n",
              "\n",
              "    .dataframe tbody tr th {\n",
              "        vertical-align: top;\n",
              "    }\n",
              "\n",
              "    .dataframe thead th {\n",
              "        text-align: right;\n",
              "    }\n",
              "</style>\n",
              "<table border=\"1\" class=\"dataframe\">\n",
              "  <thead>\n",
              "    <tr style=\"text-align: right;\">\n",
              "      <th></th>\n",
              "      <th>title</th>\n",
              "      <th>content</th>\n",
              "      <th>business</th>\n",
              "      <th>entertainment</th>\n",
              "      <th>politics</th>\n",
              "      <th>sport</th>\n",
              "      <th>tech</th>\n",
              "    </tr>\n",
              "  </thead>\n",
              "  <tbody>\n",
              "    <tr>\n",
              "      <th>0</th>\n",
              "      <td>ad sales boost time warner profit</td>\n",
              "      <td>quarterly profits at us media giant timewarne...</td>\n",
              "      <td>1</td>\n",
              "      <td>0</td>\n",
              "      <td>0</td>\n",
              "      <td>0</td>\n",
              "      <td>0</td>\n",
              "    </tr>\n",
              "    <tr>\n",
              "      <th>1</th>\n",
              "      <td>dollar gains on greenspan speech</td>\n",
              "      <td>the dollar has hit its highest level against ...</td>\n",
              "      <td>1</td>\n",
              "      <td>0</td>\n",
              "      <td>0</td>\n",
              "      <td>0</td>\n",
              "      <td>0</td>\n",
              "    </tr>\n",
              "    <tr>\n",
              "      <th>2</th>\n",
              "      <td>yukos unit buyer faces loan claim</td>\n",
              "      <td>the owners of embattled russian oil giant yuk...</td>\n",
              "      <td>1</td>\n",
              "      <td>0</td>\n",
              "      <td>0</td>\n",
              "      <td>0</td>\n",
              "      <td>0</td>\n",
              "    </tr>\n",
              "    <tr>\n",
              "      <th>3</th>\n",
              "      <td>high fuel prices hit ba's profits</td>\n",
              "      <td>british airways has blamed high fuel prices f...</td>\n",
              "      <td>1</td>\n",
              "      <td>0</td>\n",
              "      <td>0</td>\n",
              "      <td>0</td>\n",
              "      <td>0</td>\n",
              "    </tr>\n",
              "    <tr>\n",
              "      <th>4</th>\n",
              "      <td>pernod takeover talk lifts domecq</td>\n",
              "      <td>shares in uk drinks and food firm allied dome...</td>\n",
              "      <td>1</td>\n",
              "      <td>0</td>\n",
              "      <td>0</td>\n",
              "      <td>0</td>\n",
              "      <td>0</td>\n",
              "    </tr>\n",
              "    <tr>\n",
              "      <th>5</th>\n",
              "      <td>japan narrowly escapes recession</td>\n",
              "      <td>japan's economy teetered on the brink of a te...</td>\n",
              "      <td>1</td>\n",
              "      <td>0</td>\n",
              "      <td>0</td>\n",
              "      <td>0</td>\n",
              "      <td>0</td>\n",
              "    </tr>\n",
              "    <tr>\n",
              "      <th>6</th>\n",
              "      <td>jobs growth still slow in the us</td>\n",
              "      <td>the us created fewer jobs than expected in ja...</td>\n",
              "      <td>1</td>\n",
              "      <td>0</td>\n",
              "      <td>0</td>\n",
              "      <td>0</td>\n",
              "      <td>0</td>\n",
              "    </tr>\n",
              "    <tr>\n",
              "      <th>7</th>\n",
              "      <td>india calls for fair trade rules</td>\n",
              "      <td>india, which attends the g7 meeting of seven ...</td>\n",
              "      <td>1</td>\n",
              "      <td>0</td>\n",
              "      <td>0</td>\n",
              "      <td>0</td>\n",
              "      <td>0</td>\n",
              "    </tr>\n",
              "    <tr>\n",
              "      <th>8</th>\n",
              "      <td>ethiopia's crop production up 24%</td>\n",
              "      <td>ethiopia produced 14.27 million tonnes of cro...</td>\n",
              "      <td>1</td>\n",
              "      <td>0</td>\n",
              "      <td>0</td>\n",
              "      <td>0</td>\n",
              "      <td>0</td>\n",
              "    </tr>\n",
              "    <tr>\n",
              "      <th>9</th>\n",
              "      <td>court rejects $280bn tobacco case</td>\n",
              "      <td>a us government claim accusing the country's ...</td>\n",
              "      <td>1</td>\n",
              "      <td>0</td>\n",
              "      <td>0</td>\n",
              "      <td>0</td>\n",
              "      <td>0</td>\n",
              "    </tr>\n",
              "    <tr>\n",
              "      <th>10</th>\n",
              "      <td>ask jeeves tips online ad revival</td>\n",
              "      <td>ask jeeves has become the third leading onlin...</td>\n",
              "      <td>1</td>\n",
              "      <td>0</td>\n",
              "      <td>0</td>\n",
              "      <td>0</td>\n",
              "      <td>0</td>\n",
              "    </tr>\n",
              "  </tbody>\n",
              "</table>\n",
              "</div>"
            ],
            "text/plain": [
              "                                title  ... tech\n",
              "0   ad sales boost time warner profit  ...    0\n",
              "1    dollar gains on greenspan speech  ...    0\n",
              "2   yukos unit buyer faces loan claim  ...    0\n",
              "3   high fuel prices hit ba's profits  ...    0\n",
              "4   pernod takeover talk lifts domecq  ...    0\n",
              "5    japan narrowly escapes recession  ...    0\n",
              "6    jobs growth still slow in the us  ...    0\n",
              "7    india calls for fair trade rules  ...    0\n",
              "8   ethiopia's crop production up 24%  ...    0\n",
              "9   court rejects $280bn tobacco case  ...    0\n",
              "10  ask jeeves tips online ad revival  ...    0\n",
              "\n",
              "[11 rows x 7 columns]"
            ]
          },
          "metadata": {
            "tags": []
          },
          "execution_count": 14
        }
      ]
    },
    {
      "cell_type": "code",
      "metadata": {
        "colab": {
          "base_uri": "https://localhost:8080/"
        },
        "id": "YHpXqOIns5N4",
        "outputId": "c0a2c95c-14ac-4380-f3b9-669637a8937b"
      },
      "source": [
        "# Ubah nilai pada dataframe menjadi numpy array\n",
        "\n",
        "news = dataframe['title'].values + '' + dataframe['content'].values\n",
        "label = dataframe[['business', 'entertainment', 'politics', 'sport', 'tech']].values\n",
        "\n",
        "label"
      ],
      "execution_count": 15,
      "outputs": [
        {
          "output_type": "execute_result",
          "data": {
            "text/plain": [
              "array([[1, 0, 0, 0, 0],\n",
              "       [1, 0, 0, 0, 0],\n",
              "       [1, 0, 0, 0, 0],\n",
              "       ...,\n",
              "       [0, 0, 0, 0, 1],\n",
              "       [0, 0, 0, 0, 1],\n",
              "       [0, 0, 0, 0, 1]], dtype=uint8)"
            ]
          },
          "metadata": {
            "tags": []
          },
          "execution_count": 15
        }
      ]
    },
    {
      "cell_type": "code",
      "metadata": {
        "id": "71iDpjxytgVn"
      },
      "source": [
        "# Split data menjadi data training dan data validation\n",
        "\n",
        "news_train, news_test, label_train, label_test = train_test_split(news, label, test_size=0.2, shuffle=True)"
      ],
      "execution_count": 16,
      "outputs": []
    },
    {
      "cell_type": "code",
      "metadata": {
        "id": "AOwWLsMavdAs"
      },
      "source": [
        "# Tokenizer\n",
        " \n",
        "tokenizer = Tokenizer(num_words=5000, oov_token='x', filters='!\"#$%&()*+,-./:;<=>@[\\]^_`{|}~ ')\n",
        "tokenizer.fit_on_texts(news_train) \n",
        "tokenizer.fit_on_texts(news_test)\n",
        " \n",
        "sekuens_train = tokenizer.texts_to_sequences(news_train)\n",
        "sekuens_test = tokenizer.texts_to_sequences(news_test)\n",
        " \n",
        "padded_train = pad_sequences(sekuens_train) \n",
        "padded_test = pad_sequences(sekuens_test)"
      ],
      "execution_count": 17,
      "outputs": []
    },
    {
      "cell_type": "markdown",
      "metadata": {
        "id": "Nvq6pYgqv3RX"
      },
      "source": [
        "# Model Building "
      ]
    },
    {
      "cell_type": "code",
      "metadata": {
        "colab": {
          "base_uri": "https://localhost:8080/"
        },
        "id": "FwjkkLHEvlIW",
        "outputId": "6a4b3cac-0b60-4fef-e754-00586cba8bae"
      },
      "source": [
        "# Model\n",
        "\n",
        "model = tf.keras.Sequential([\n",
        "    tf.keras.layers.Embedding(input_dim=5000, output_dim=64),\n",
        "    tf.keras.layers.LSTM(128),\n",
        "    tf.keras.layers.Dense(128, activation='relu'),\n",
        "    tf.keras.layers.Dropout(0.5),\n",
        "    tf.keras.layers.Dense(64, activation='relu'),\n",
        "    tf.keras.layers.Dropout(0.2),\n",
        "    tf.keras.layers.Dense(5, activation='softmax')\n",
        "])\n",
        "model.compile(optimizer='adam', metrics=['accuracy'], loss='categorical_crossentropy',)\n",
        "model.summary()"
      ],
      "execution_count": 18,
      "outputs": [
        {
          "output_type": "stream",
          "text": [
            "Model: \"sequential\"\n",
            "_________________________________________________________________\n",
            "Layer (type)                 Output Shape              Param #   \n",
            "=================================================================\n",
            "embedding (Embedding)        (None, None, 64)          320000    \n",
            "_________________________________________________________________\n",
            "lstm (LSTM)                  (None, 128)               98816     \n",
            "_________________________________________________________________\n",
            "dense (Dense)                (None, 128)               16512     \n",
            "_________________________________________________________________\n",
            "dropout (Dropout)            (None, 128)               0         \n",
            "_________________________________________________________________\n",
            "dense_1 (Dense)              (None, 64)                8256      \n",
            "_________________________________________________________________\n",
            "dropout_1 (Dropout)          (None, 64)                0         \n",
            "_________________________________________________________________\n",
            "dense_2 (Dense)              (None, 5)                 325       \n",
            "=================================================================\n",
            "Total params: 443,909\n",
            "Trainable params: 443,909\n",
            "Non-trainable params: 0\n",
            "_________________________________________________________________\n"
          ],
          "name": "stdout"
        }
      ]
    },
    {
      "cell_type": "code",
      "metadata": {
        "id": "pSL0h8wswGgb"
      },
      "source": [
        "# Callback\n",
        "\n",
        "class myCallback(tf.keras.callbacks.Callback):\n",
        "  def on_epoch_end(self, epoch, logs={}):\n",
        "    if(logs.get('accuracy')>0.90 and logs.get('val_accuracy')>0.85):\n",
        "      self.model.stop_training = True\n",
        "      print(\"\\nThe accuracy of the training set has reached > 90% and the validation set has reached > 85%!\")\n",
        "callbacks = myCallback()"
      ],
      "execution_count": 19,
      "outputs": []
    },
    {
      "cell_type": "code",
      "metadata": {
        "colab": {
          "base_uri": "https://localhost:8080/"
        },
        "id": "kzAVsHr7wQji",
        "outputId": "ebc3b633-7548-467f-9151-a7d7c0caffde"
      },
      "source": [
        "# Model Fit\n",
        "\n",
        "history = model.fit(padded_train, label_train, epochs = 200, \n",
        "                    validation_data = (padded_test, label_test), \n",
        "                    verbose = 1, callbacks = [callbacks], validation_steps = 20)"
      ],
      "execution_count": 20,
      "outputs": [
        {
          "output_type": "stream",
          "text": [
            "Epoch 1/200\n",
            "56/56 [==============================] - 15s 226ms/step - loss: 1.5921 - accuracy: 0.2489 - val_loss: 1.5232 - val_accuracy: 0.3618\n",
            "Epoch 2/200\n",
            "56/56 [==============================] - 13s 241ms/step - loss: 1.2623 - accuracy: 0.3843 - val_loss: 1.0072 - val_accuracy: 0.4944\n",
            "Epoch 3/200\n",
            "56/56 [==============================] - 14s 242ms/step - loss: 1.0330 - accuracy: 0.4416 - val_loss: 1.0652 - val_accuracy: 0.4966\n",
            "Epoch 4/200\n",
            "56/56 [==============================] - 13s 228ms/step - loss: 0.9210 - accuracy: 0.5202 - val_loss: 0.9576 - val_accuracy: 0.5371\n",
            "Epoch 5/200\n",
            "56/56 [==============================] - 13s 228ms/step - loss: 0.9610 - accuracy: 0.6084 - val_loss: 0.8963 - val_accuracy: 0.6472\n",
            "Epoch 6/200\n",
            "56/56 [==============================] - 13s 226ms/step - loss: 0.5699 - accuracy: 0.7506 - val_loss: 0.6341 - val_accuracy: 0.7506\n",
            "Epoch 7/200\n",
            "56/56 [==============================] - 14s 245ms/step - loss: 0.3378 - accuracy: 0.8539 - val_loss: 0.6475 - val_accuracy: 0.7753\n",
            "Epoch 8/200\n",
            "56/56 [==============================] - 14s 246ms/step - loss: 0.2064 - accuracy: 0.9298 - val_loss: 1.1010 - val_accuracy: 0.6921\n",
            "Epoch 9/200\n",
            "56/56 [==============================] - 13s 232ms/step - loss: 0.0923 - accuracy: 0.9747 - val_loss: 0.7248 - val_accuracy: 0.8292\n",
            "Epoch 10/200\n",
            "56/56 [==============================] - 13s 228ms/step - loss: 0.0482 - accuracy: 0.9876 - val_loss: 0.7952 - val_accuracy: 0.7933\n",
            "Epoch 11/200\n",
            "56/56 [==============================] - 13s 224ms/step - loss: 0.0185 - accuracy: 0.9955 - val_loss: 0.7965 - val_accuracy: 0.8337\n",
            "Epoch 12/200\n",
            "56/56 [==============================] - 14s 243ms/step - loss: 0.0145 - accuracy: 0.9966 - val_loss: 0.7403 - val_accuracy: 0.8584\n",
            "\n",
            "The accuracy of the training set has reached > 90% and the validation set has reached > 85%!\n"
          ],
          "name": "stdout"
        }
      ]
    },
    {
      "cell_type": "markdown",
      "metadata": {
        "id": "cJiNT1zexDBP"
      },
      "source": [
        "# Model Evaluation"
      ]
    },
    {
      "cell_type": "code",
      "metadata": {
        "id": "TR0-43R4xAdO",
        "colab": {
          "base_uri": "https://localhost:8080/",
          "height": 295
        },
        "outputId": "971b0359-3d9f-4ab8-efd9-bd4fa1b4f3b5"
      },
      "source": [
        "# Plot Accuracy\n",
        "\n",
        "import matplotlib.pyplot as plt\n",
        "plt.plot(history.history['accuracy'])\n",
        "plt.plot(history.history['val_accuracy'])\n",
        "plt.title('Model Accuracy')\n",
        "plt.ylabel('accuracy')\n",
        "plt.xlabel('epoch')\n",
        "plt.legend(['Train', 'Test'], loc='upper left')\n",
        "plt.show()"
      ],
      "execution_count": 21,
      "outputs": [
        {
          "output_type": "display_data",
          "data": {
            "image/png": "[encoded data removed]",
            "text/plain": [
              "<Figure size 432x288 with 1 Axes>"
            ]
          },
          "metadata": {
            "tags": [],
            "needs_background": "light"
          }
        }
      ]
    },
    {
      "cell_type": "code",
      "metadata": {
        "id": "lL5hYgKDxPOm",
        "colab": {
          "base_uri": "https://localhost:8080/",
          "height": 295
        },
        "outputId": "bc4991df-6446-43f6-fea5-d4294e955a9c"
      },
      "source": [
        "# Plot Loss\n",
        "\n",
        "plt.plot(history.history['loss'])\n",
        "plt.plot(history.history['val_loss'])\n",
        "plt.title('Model Loss')\n",
        "plt.ylabel('loss')\n",
        "plt.xlabel('epoch')\n",
        "plt.legend(['Train', 'Test'], loc='upper right')\n",
        "plt.show()"
      ],
      "execution_count": 22,
      "outputs": [
        {
          "output_type": "display_data",
          "data": {
            "image/png": "[encoded data removed]",
            "text/plain": [
              "<Figure size 432x288 with 1 Axes>"
            ]
          },
          "metadata": {
            "tags": [],
            "needs_background": "light"
          }
        }
      ]
    }
  ]
}